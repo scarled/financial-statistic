{
 "cells": [
  {
   "cell_type": "code",
   "execution_count": 15,
   "metadata": {},
   "outputs": [],
   "source": [
    "# import\n",
    "import pandas as pd\n",
    "import numpy as np\n",
    "from scipy import stats\n",
    "import statsmodels.api as sm\n",
    "import scipy\n",
    "import math"
   ]
  },
  {
   "cell_type": "code",
   "execution_count": 14,
   "metadata": {},
   "outputs": [],
   "source": [
    "# get the data\n",
    "bet=pd.read_csv('^bet_d.csv')"
   ]
  },
  {
   "cell_type": "code",
   "execution_count": 16,
   "metadata": {},
   "outputs": [],
   "source": [
    "# keep the giving priod of time\n",
    "bet=bet[bet['Date']>='1997-09-19']\n",
    "bet=bet[bet['Date']<='2012-05-21']\n",
    "bet = bet.set_index('Date')\n",
    "bet =pd.DataFrame(bet['Close'])"
   ]
  },
  {
   "cell_type": "code",
   "execution_count": 17,
   "metadata": {},
   "outputs": [
    {
     "name": "stdout",
     "output_type": "stream",
     "text": [
      "              Close\n",
      "Date               \n",
      "2000-10-31   528.94\n",
      "2000-11-01   527.24\n",
      "2000-11-02   528.65\n",
      "2000-11-03   525.09\n",
      "2000-11-06   521.20\n",
      "...             ...\n",
      "2012-05-15  4751.52\n",
      "2012-05-16  4720.80\n",
      "2012-05-17  4715.69\n",
      "2012-05-18  4653.51\n",
      "2012-05-21  4595.31\n",
      "\n",
      "[2863 rows x 1 columns]\n"
     ]
    }
   ],
   "source": [
    "print(bet)"
   ]
  },
  {
   "cell_type": "code",
   "execution_count": 18,
   "metadata": {},
   "outputs": [],
   "source": [
    "# calculate the daily logaritmic return\n",
    "log_return_bet=np.log(bet/bet.shift(1))\n",
    "# eliminate the firs position (because is blank)\n",
    "log_return_bet=log_return_bet.iloc[1:]"
   ]
  },
  {
   "cell_type": "code",
   "execution_count": 24,
   "metadata": {},
   "outputs": [
    {
     "name": "stdout",
     "output_type": "stream",
     "text": [
      "29\n"
     ]
    }
   ],
   "source": [
    "# get the the lowest 1% data\n",
    "q1=np.percentile(log_return_bet, 1)\n",
    "print(len(log_return_bet[log_return_bet['Close']<q1]))"
   ]
  },
  {
   "cell_type": "code",
   "execution_count": 27,
   "metadata": {},
   "outputs": [],
   "source": [
    "# estimate the regresion  ln[1-P(r<X)]=C -lln([X])+E\n",
    "import statsmodels.distributions.empirical_distribution\n",
    "x=np.log(np.abs(log_return_bet[log_return_bet['Close']<q1]['Close']))\n",
    "y=list()\n",
    "log_return_bet_q1=log_return_bet[log_return_bet['Close']<q1]\n",
    "ecdf=statsmodels.distributions.empirical_distribution.ECDF(log_return_bet['Close'])\n",
    "for i in range(0, len(log_return_bet_q1)):\n",
    "    y.append(ecdf(log_return_bet_q1.iloc[i]['Close']))\n",
    "y=np.log(y)\n",
    "slope,intercept,r_value,p_value,std_err=stats.linregress(x,y)"
   ]
  },
  {
   "cell_type": "code",
   "execution_count": 30,
   "metadata": {},
   "outputs": [
    {
     "name": "stdout",
     "output_type": "stream",
     "text": [
      "3.6338225017470296\n",
      "0.628930817610063\n",
      "0.2445842068483578\n"
     ]
    }
   ],
   "source": [
    "# empirical probabilitys\n",
    "print( len(log_return_bet[log_return_bet['Close']<-0.03])/len(log_return_bet)*100)\n",
    "print( len(log_return_bet[log_return_bet['Close']<-0.06])/len(log_return_bet)*100)\n",
    "print( len(log_return_bet[log_return_bet['Close']<-0.09])/len(log_return_bet)*100)\n"
   ]
  },
  {
   "cell_type": "code",
   "execution_count": 32,
   "metadata": {},
   "outputs": [
    {
     "name": "stdout",
     "output_type": "stream",
     "text": [
      "5.756788448972305\n",
      "0.6838773375939697\n",
      "0.19668430375894036\n"
     ]
    }
   ],
   "source": [
    "# estimated probability\n",
    "print(math.exp(intercept)*(0.03**(slope))*100)\n",
    "print(math.exp(intercept)*(0.06**(slope))*100)\n",
    "print(math.exp(intercept)*(0.09**(slope))*100)"
   ]
  },
  {
   "cell_type": "code",
   "execution_count": 35,
   "metadata": {},
   "outputs": [
    {
     "name": "stdout",
     "output_type": "stream",
     "text": [
      "0.11007692307692307\n",
      "0.636\n",
      "1.6354285714285715\n"
     ]
    }
   ],
   "source": [
    "# empirical periodicity of this event (in years)\n",
    "print(1/(250*len(log_return_bet[log_return_bet['Close']<-0.03])/len(log_return_bet)))\n",
    "print(1/(250*len(log_return_bet[log_return_bet['Close']<-0.06])/len(log_return_bet)))\n",
    "print(1/(250*len(log_return_bet[log_return_bet['Close']<-0.09])/len(log_return_bet)))"
   ]
  },
  {
   "cell_type": "code",
   "execution_count": 36,
   "metadata": {},
   "outputs": [
    {
     "name": "stdout",
     "output_type": "stream",
     "text": [
      "0.06948318555485698\n",
      "0.5849002123791491\n",
      "2.033715921176134\n"
     ]
    }
   ],
   "source": [
    "# estimated periodicity of this event (in years)\n",
    "print(1/(250*math.exp(intercept)*(0.03**(slope))))\n",
    "print(1/(250*math.exp(intercept)*(0.06**(slope))))\n",
    "print(1/(250*math.exp(intercept)*(0.09**(slope))))"
   ]
  }
 ],
 "metadata": {
  "kernelspec": {
   "display_name": "Python 3",
   "language": "python",
   "name": "python3"
  },
  "language_info": {
   "codemirror_mode": {
    "name": "ipython",
    "version": 3
   },
   "file_extension": ".py",
   "mimetype": "text/x-python",
   "name": "python",
   "nbconvert_exporter": "python",
   "pygments_lexer": "ipython3",
   "version": "3.7.4"
  }
 },
 "nbformat": 4,
 "nbformat_minor": 2
}
