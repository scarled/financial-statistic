{
 "cells": [
  {
   "cell_type": "code",
   "execution_count": 14,
   "metadata": {},
   "outputs": [],
   "source": [
    "# import\n",
    "import pandas as pd\n",
    "import numpy as np\n",
    "import scipy\n",
    "from scipy import stats\n",
    "import statsmodels.api as sm"
   ]
  },
  {
   "cell_type": "code",
   "execution_count": 15,
   "metadata": {},
   "outputs": [],
   "source": [
    "#get dija index \n",
    "stock=pd.read_csv('^dji_d.csv')"
   ]
  },
  {
   "cell_type": "code",
   "execution_count": 16,
   "metadata": {},
   "outputs": [],
   "source": [
    "# keep the giving priod of time\n",
    "stock=stock[stock['Date']>='1928-10-01']\n",
    "stock=stock[stock['Date']<='1987-12-31']\n",
    "stock = stock.set_index('Date')\n",
    "stock =pd.DataFrame(stock['Close'])"
   ]
  },
  {
   "cell_type": "code",
   "execution_count": 17,
   "metadata": {},
   "outputs": [
    {
     "name": "stdout",
     "output_type": "stream",
     "text": [
      "             Close\n",
      "Date              \n",
      "1928-10-01   240.0\n",
      "1928-10-02   238.1\n",
      "1928-10-03   237.8\n",
      "1928-10-04   240.0\n",
      "1928-10-05   240.4\n",
      "...            ...\n",
      "1987-12-24  1999.7\n",
      "1987-12-28  1943.0\n",
      "1987-12-29  1926.9\n",
      "1987-12-30  1950.1\n",
      "1987-12-31  1938.8\n",
      "\n",
      "[15924 rows x 1 columns]\n"
     ]
    }
   ],
   "source": [
    "print(stock)"
   ]
  },
  {
   "cell_type": "code",
   "execution_count": 18,
   "metadata": {},
   "outputs": [],
   "source": [
    "# calculate the daily logaritmic return\n",
    "log_return=np.log(stock/stock.shift(1))\n",
    "# eliminate the firs position (because is blank)\n",
    "log_return=log_return.iloc[1:]"
   ]
  },
  {
   "cell_type": "code",
   "execution_count": 25,
   "metadata": {},
   "outputs": [
    {
     "name": "stdout",
     "output_type": "stream",
     "text": [
      "[1.97266437e-34]\n",
      "[2.53529272e-104]\n"
     ]
    }
   ],
   "source": [
    "# calculate the probability of a stock to decrease over 14% and 25%\n",
    "# this formual use the probability density function of a normal distributin: (e^-(x-u)/2v^2)/v*sqrt(2pi)\n",
    "print(scipy.stats.norm(log_return.mean(),log_return.std()).pdf(-0.1447))\n",
    "print(scipy.stats.norm(log_return.mean(),log_return.std()).pdf(-0.25))"
   ]
  },
  {
   "cell_type": "code",
   "execution_count": 27,
   "metadata": {},
   "outputs": [
    {
     "name": "stdout",
     "output_type": "stream",
     "text": [
      "[2.02771442e+31]\n",
      "[1.57772709e+101]\n"
     ]
    }
   ],
   "source": [
    "# calculate the periodicity of this event (in years)\n",
    "# the formula is t=1/250*pdf\n",
    "print(1/(250*scipy.stats.norm(log_return.mean(), log_return.std()).pdf(-0.1447)))\n",
    "print(1/(250*scipy.stats.norm(log_return.mean(), log_return.std()).pdf(-0.25)))"
   ]
  }
 ],
 "metadata": {
  "kernelspec": {
   "display_name": "Python 3",
   "language": "python",
   "name": "python3"
  },
  "language_info": {
   "codemirror_mode": {
    "name": "ipython",
    "version": 3
   },
   "file_extension": ".py",
   "mimetype": "text/x-python",
   "name": "python",
   "nbconvert_exporter": "python",
   "pygments_lexer": "ipython3",
   "version": "3.7.4"
  }
 },
 "nbformat": 4,
 "nbformat_minor": 2
}
