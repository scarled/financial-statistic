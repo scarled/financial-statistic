{
 "cells": [
  {
   "cell_type": "code",
   "execution_count": 3,
   "metadata": {},
   "outputs": [],
   "source": [
    "# import\n",
    "import numpy as np\n",
    "import pandas as pd\n",
    "from pandas_datareader import data as wb\n",
    "import matplotlib.pyplot as plt"
   ]
  },
  {
   "cell_type": "code",
   "execution_count": 4,
   "metadata": {},
   "outputs": [],
   "source": [
    "# get the price action for Procter & Gamble (the code is PG)\n",
    "PG=wb.DataReader('PG',data_source='yahoo')"
   ]
  },
  {
   "cell_type": "code",
   "execution_count": 5,
   "metadata": {},
   "outputs": [
    {
     "data": {
      "text/html": [
       "<div>\n",
       "<style scoped>\n",
       "    .dataframe tbody tr th:only-of-type {\n",
       "        vertical-align: middle;\n",
       "    }\n",
       "\n",
       "    .dataframe tbody tr th {\n",
       "        vertical-align: top;\n",
       "    }\n",
       "\n",
       "    .dataframe thead th {\n",
       "        text-align: right;\n",
       "    }\n",
       "</style>\n",
       "<table border=\"1\" class=\"dataframe\">\n",
       "  <thead>\n",
       "    <tr style=\"text-align: right;\">\n",
       "      <th></th>\n",
       "      <th>High</th>\n",
       "      <th>Low</th>\n",
       "      <th>Open</th>\n",
       "      <th>Close</th>\n",
       "      <th>Volume</th>\n",
       "      <th>Adj Close</th>\n",
       "    </tr>\n",
       "    <tr>\n",
       "      <th>Date</th>\n",
       "      <th></th>\n",
       "      <th></th>\n",
       "      <th></th>\n",
       "      <th></th>\n",
       "      <th></th>\n",
       "      <th></th>\n",
       "    </tr>\n",
       "  </thead>\n",
       "  <tbody>\n",
       "    <tr>\n",
       "      <td>2015-05-12</td>\n",
       "      <td>80.290001</td>\n",
       "      <td>79.360001</td>\n",
       "      <td>80.029999</td>\n",
       "      <td>79.949997</td>\n",
       "      <td>6305800.0</td>\n",
       "      <td>68.460526</td>\n",
       "    </tr>\n",
       "    <tr>\n",
       "      <td>2015-05-13</td>\n",
       "      <td>80.589996</td>\n",
       "      <td>79.550003</td>\n",
       "      <td>80.160004</td>\n",
       "      <td>79.699997</td>\n",
       "      <td>6459900.0</td>\n",
       "      <td>68.246445</td>\n",
       "    </tr>\n",
       "    <tr>\n",
       "      <td>2015-05-14</td>\n",
       "      <td>80.690002</td>\n",
       "      <td>80.089996</td>\n",
       "      <td>80.110001</td>\n",
       "      <td>80.570000</td>\n",
       "      <td>5634200.0</td>\n",
       "      <td>68.991417</td>\n",
       "    </tr>\n",
       "    <tr>\n",
       "      <td>2015-05-15</td>\n",
       "      <td>81.120003</td>\n",
       "      <td>80.730003</td>\n",
       "      <td>80.830002</td>\n",
       "      <td>81.050003</td>\n",
       "      <td>7454800.0</td>\n",
       "      <td>69.402443</td>\n",
       "    </tr>\n",
       "    <tr>\n",
       "      <td>2015-05-18</td>\n",
       "      <td>81.129997</td>\n",
       "      <td>80.500000</td>\n",
       "      <td>80.970001</td>\n",
       "      <td>80.739998</td>\n",
       "      <td>5590800.0</td>\n",
       "      <td>69.136993</td>\n",
       "    </tr>\n",
       "  </tbody>\n",
       "</table>\n",
       "</div>"
      ],
      "text/plain": [
       "                 High        Low       Open      Close     Volume  Adj Close\n",
       "Date                                                                        \n",
       "2015-05-12  80.290001  79.360001  80.029999  79.949997  6305800.0  68.460526\n",
       "2015-05-13  80.589996  79.550003  80.160004  79.699997  6459900.0  68.246445\n",
       "2015-05-14  80.690002  80.089996  80.110001  80.570000  5634200.0  68.991417\n",
       "2015-05-15  81.120003  80.730003  80.830002  81.050003  7454800.0  69.402443\n",
       "2015-05-18  81.129997  80.500000  80.970001  80.739998  5590800.0  69.136993"
      ]
     },
     "execution_count": 5,
     "metadata": {},
     "output_type": "execute_result"
    }
   ],
   "source": [
    "# print the first five price action\n",
    "PG.head()"
   ]
  },
  {
   "cell_type": "code",
   "execution_count": 6,
   "metadata": {},
   "outputs": [
    {
     "data": {
      "text/html": [
       "<div>\n",
       "<style scoped>\n",
       "    .dataframe tbody tr th:only-of-type {\n",
       "        vertical-align: middle;\n",
       "    }\n",
       "\n",
       "    .dataframe tbody tr th {\n",
       "        vertical-align: top;\n",
       "    }\n",
       "\n",
       "    .dataframe thead th {\n",
       "        text-align: right;\n",
       "    }\n",
       "</style>\n",
       "<table border=\"1\" class=\"dataframe\">\n",
       "  <thead>\n",
       "    <tr style=\"text-align: right;\">\n",
       "      <th></th>\n",
       "      <th>High</th>\n",
       "      <th>Low</th>\n",
       "      <th>Open</th>\n",
       "      <th>Close</th>\n",
       "      <th>Volume</th>\n",
       "      <th>Adj Close</th>\n",
       "    </tr>\n",
       "    <tr>\n",
       "      <th>Date</th>\n",
       "      <th></th>\n",
       "      <th></th>\n",
       "      <th></th>\n",
       "      <th></th>\n",
       "      <th></th>\n",
       "      <th></th>\n",
       "    </tr>\n",
       "  </thead>\n",
       "  <tbody>\n",
       "    <tr>\n",
       "      <td>2020-05-04</td>\n",
       "      <td>117.199997</td>\n",
       "      <td>115.000000</td>\n",
       "      <td>117.089996</td>\n",
       "      <td>115.769997</td>\n",
       "      <td>5636000.0</td>\n",
       "      <td>115.769997</td>\n",
       "    </tr>\n",
       "    <tr>\n",
       "      <td>2020-05-05</td>\n",
       "      <td>117.260002</td>\n",
       "      <td>115.209999</td>\n",
       "      <td>115.800003</td>\n",
       "      <td>116.010002</td>\n",
       "      <td>5425200.0</td>\n",
       "      <td>116.010002</td>\n",
       "    </tr>\n",
       "    <tr>\n",
       "      <td>2020-05-06</td>\n",
       "      <td>116.139999</td>\n",
       "      <td>112.889999</td>\n",
       "      <td>115.540001</td>\n",
       "      <td>113.099998</td>\n",
       "      <td>7892200.0</td>\n",
       "      <td>113.099998</td>\n",
       "    </tr>\n",
       "    <tr>\n",
       "      <td>2020-05-07</td>\n",
       "      <td>114.139999</td>\n",
       "      <td>111.820000</td>\n",
       "      <td>114.059998</td>\n",
       "      <td>112.169998</td>\n",
       "      <td>8762800.0</td>\n",
       "      <td>112.169998</td>\n",
       "    </tr>\n",
       "    <tr>\n",
       "      <td>2020-05-08</td>\n",
       "      <td>116.300003</td>\n",
       "      <td>113.389999</td>\n",
       "      <td>113.519997</td>\n",
       "      <td>115.949997</td>\n",
       "      <td>9279900.0</td>\n",
       "      <td>115.949997</td>\n",
       "    </tr>\n",
       "  </tbody>\n",
       "</table>\n",
       "</div>"
      ],
      "text/plain": [
       "                  High         Low        Open       Close     Volume  \\\n",
       "Date                                                                    \n",
       "2020-05-04  117.199997  115.000000  117.089996  115.769997  5636000.0   \n",
       "2020-05-05  117.260002  115.209999  115.800003  116.010002  5425200.0   \n",
       "2020-05-06  116.139999  112.889999  115.540001  113.099998  7892200.0   \n",
       "2020-05-07  114.139999  111.820000  114.059998  112.169998  8762800.0   \n",
       "2020-05-08  116.300003  113.389999  113.519997  115.949997  9279900.0   \n",
       "\n",
       "             Adj Close  \n",
       "Date                    \n",
       "2020-05-04  115.769997  \n",
       "2020-05-05  116.010002  \n",
       "2020-05-06  113.099998  \n",
       "2020-05-07  112.169998  \n",
       "2020-05-08  115.949997  "
      ]
     },
     "execution_count": 6,
     "metadata": {},
     "output_type": "execute_result"
    }
   ],
   "source": [
    "# printe the last five price action\n",
    "PG.tail()"
   ]
  },
  {
   "cell_type": "code",
   "execution_count": 7,
   "metadata": {},
   "outputs": [
    {
     "name": "stdout",
     "output_type": "stream",
     "text": [
      "Date\n",
      "2015-05-12         NaN\n",
      "2015-05-13   -0.003132\n",
      "2015-05-14    0.010857\n",
      "2015-05-15    0.005940\n",
      "2015-05-18   -0.003832\n",
      "                ...   \n",
      "2020-05-04   -0.009029\n",
      "2020-05-05    0.002071\n",
      "2020-05-06   -0.025404\n",
      "2020-05-07   -0.008257\n",
      "2020-05-08    0.033143\n",
      "Name: log_return, Length: 1258, dtype: float64\n"
     ]
    }
   ],
   "source": [
    "# calculate the logaritmic daily return of assets. The formula is log(price(T)/price(T-1)), where T is the time. \n",
    "PG['log_return']=np.log(PG['Close']/PG['Close'].shift(1))\n",
    "# print the result. For the first row we do not have a return.\n",
    "print(PG['log_return'])"
   ]
  },
  {
   "cell_type": "code",
   "execution_count": 13,
   "metadata": {},
   "outputs": [
    {
     "name": "stdout",
     "output_type": "stream",
     "text": [
      "0.0001631201655703098\n"
     ]
    }
   ],
   "source": [
    "# the risk of an assets is the variance of the return.Basically, price fluctuations and their difference from the average are measured\n",
    "daily_risk=PG['log_return'].var()\n",
    "# print the daily risk\n",
    "print(daily_risk)"
   ]
  },
  {
   "cell_type": "code",
   "execution_count": 15,
   "metadata": {},
   "outputs": [
    {
     "name": "stdout",
     "output_type": "stream",
     "text": [
      "0.040780041392577446\n"
     ]
    }
   ],
   "source": [
    "# calculate the annual risk. The formula is daily risk*250. We assume it exists 250 working days (365- weekends, legal free days)\n",
    "annual_risk=daily_risk*250\n",
    "# print the anually risk\n",
    "print(annual_risk)"
   ]
  }
 ],
 "metadata": {
  "kernelspec": {
   "display_name": "Python 3",
   "language": "python",
   "name": "python3"
  },
  "language_info": {
   "codemirror_mode": {
    "name": "ipython",
    "version": 3
   },
   "file_extension": ".py",
   "mimetype": "text/x-python",
   "name": "python",
   "nbconvert_exporter": "python",
   "pygments_lexer": "ipython3",
   "version": "3.7.4"
  }
 },
 "nbformat": 4,
 "nbformat_minor": 2
}
