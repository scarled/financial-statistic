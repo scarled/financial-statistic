{
 "cells": [
  {
   "cell_type": "code",
   "execution_count": 1,
   "metadata": {},
   "outputs": [],
   "source": [
    "# import\n",
    "import numpy as np\n",
    "import pandas as pd\n",
    "from pandas_datareader import data as wb"
   ]
  },
  {
   "cell_type": "code",
   "execution_count": 7,
   "metadata": {},
   "outputs": [],
   "source": [
    "# get the price action for Procter & Gamble (the code is PG) and  S&P 500 index (the code is ^GSPC)\n",
    "tickers=['PG','^GSPC']\n",
    "data=pd.DataFrame() # generate an empty data frame\n",
    "for t in tickers:\n",
    "    data[t]=wb.DataReader(t,data_source='yahoo')['Close'] # save the close price"
   ]
  },
  {
   "cell_type": "code",
   "execution_count": 11,
   "metadata": {},
   "outputs": [
    {
     "name": "stdout",
     "output_type": "stream",
     "text": [
      "                    PG        ^GSPC\n",
      "Date                               \n",
      "2015-05-12   79.949997  2099.120117\n",
      "2015-05-13   79.699997  2098.479980\n",
      "2015-05-14   80.570000  2121.100098\n",
      "2015-05-15   81.050003  2122.729980\n",
      "2015-05-18   80.739998  2129.199951\n",
      "...                ...          ...\n",
      "2020-05-04  115.769997  2842.739990\n",
      "2020-05-05  116.010002  2868.439941\n",
      "2020-05-06  113.099998  2848.419922\n",
      "2020-05-07  112.169998  2881.189941\n",
      "2020-05-08  115.949997  2929.800049\n",
      "\n",
      "[1258 rows x 2 columns]\n"
     ]
    }
   ],
   "source": [
    "# print the data frame\n",
    "print(data)"
   ]
  },
  {
   "cell_type": "code",
   "execution_count": 28,
   "metadata": {},
   "outputs": [
    {
     "name": "stdout",
     "output_type": "stream",
     "text": [
      "                  PG     ^GSPC\n",
      "Date                          \n",
      "2015-05-12       NaN       NaN\n",
      "2015-05-13 -0.003132 -0.000305\n",
      "2015-05-14  0.010857  0.010722\n",
      "2015-05-15  0.005940  0.000768\n",
      "2015-05-18 -0.003832  0.003043\n",
      "...              ...       ...\n",
      "2020-05-04 -0.009029  0.004241\n",
      "2020-05-05  0.002071  0.009000\n",
      "2020-05-06 -0.025404 -0.007004\n",
      "2020-05-07 -0.008257  0.011439\n",
      "2020-05-08  0.033143  0.016731\n",
      "\n",
      "[1258 rows x 2 columns]\n"
     ]
    }
   ],
   "source": [
    "# calculate the logaritmic daily return of assets. The formula is log(price(T)/price(T-1)), where T is the time. \n",
    "log_daily_return=np.log(data/data.shift(1))\n",
    "# print the result. For the first row we do not have a return.\n",
    "print(log_daily_return)"
   ]
  },
  {
   "cell_type": "code",
   "execution_count": 48,
   "metadata": {},
   "outputs": [
    {
     "name": "stdout",
     "output_type": "stream",
     "text": [
      "0.02353426063611079\n",
      "0.03596820789272252\n"
     ]
    }
   ],
   "source": [
    "# calculate the covariante between Procter & Gamble and S&P 500. In probability theory and statistics, covariance is a measure of the joint variability of two random variables\n",
    "# python has implemented the covariance formula wich is sum([x-mean(x)]*[y-mean(Y))/N-1\n",
    "cov=log_daily_return.cov()*250\n",
    "cov_with_market=cov.iloc[0,1] \n",
    "print(cov_with_market)\n",
    "#calculate the annualy variance (risk)\n",
    "market_var=log_daily_return['^GSPC'].var()*250\n",
    "print(market_var)"
   ]
  },
  {
   "cell_type": "code",
   "execution_count": 59,
   "metadata": {},
   "outputs": [
    {
     "name": "stdout",
     "output_type": "stream",
     "text": [
      "0.6543072901019485\n"
     ]
    }
   ],
   "source": [
    "# calculate the beta coefficient for Procter & Gamble. The formula is  covariance between  Procter & Gamble and S&P 500/ variance of the market\n",
    "beta=cov_with_market/market_var\n",
    "print(beta)"
   ]
  },
  {
   "cell_type": "code",
   "execution_count": 60,
   "metadata": {},
   "outputs": [
    {
     "name": "stdout",
     "output_type": "stream",
     "text": [
      "0.05203063565219271\n"
     ]
    }
   ],
   "source": [
    "# calculate market return, which is the annualy logaritmic return\n",
    "rm = log_daily_return['^GSPC'].mean() * 250\n",
    "# give a value for free risk. The risk-free interest rate is the rate of return of a hypothetical investment with no risk of financial loss\n",
    "free_risk=0.025\n",
    "# calculate CAPM\n",
    "CAPM=free_risk+beta*(rm-free_risk)\n",
    "print(CAPM)"
   ]
  },
  {
   "cell_type": "code",
   "execution_count": 61,
   "metadata": {},
   "outputs": [
    {
     "name": "stdout",
     "output_type": "stream",
     "text": [
      "0.13385433092029161\n"
     ]
    }
   ],
   "source": [
    "# calcualte sharpe ration\n",
    "Sharpe=(CAPM-free_risk)/(log_daily_return['PG'].std()*250**0.5)\n",
    "print(Sharpe)"
   ]
  },
  {
   "cell_type": "code",
   "execution_count": null,
   "metadata": {},
   "outputs": [],
   "source": []
  }
 ],
 "metadata": {
  "kernelspec": {
   "display_name": "Python 3",
   "language": "python",
   "name": "python3"
  },
  "language_info": {
   "codemirror_mode": {
    "name": "ipython",
    "version": 3
   },
   "file_extension": ".py",
   "mimetype": "text/x-python",
   "name": "python",
   "nbconvert_exporter": "python",
   "pygments_lexer": "ipython3",
   "version": "3.7.4"
  }
 },
 "nbformat": 4,
 "nbformat_minor": 2
}
