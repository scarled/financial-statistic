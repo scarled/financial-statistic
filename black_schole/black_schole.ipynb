{
 "cells": [
  {
   "cell_type": "code",
   "execution_count": 3,
   "metadata": {},
   "outputs": [],
   "source": [
    "# import\n",
    "import numpy as np\n",
    "import pandas as pd\n",
    "from pandas_datareader import data as wb\n",
    "from scipy.stats import norm"
   ]
  },
  {
   "cell_type": "code",
   "execution_count": 38,
   "metadata": {},
   "outputs": [],
   "source": [
    "# S= Current stock price\n",
    "# T= Time until option exercise\n",
    "# K= Option strike price\n",
    "# r= risk free interest rate\n",
    "\n",
    "# define d1\n",
    "def d1(S,K,r,stdev,T):\n",
    "    return (np.log(S/K)+(r+stdev**2/2)*T)/(stdev*np.sqrt(T)) \n",
    "# define d2\n",
    "def d2(S,K,r,stdev,T):\n",
    "    return (np.log(S/K)+(r-stdev**2/2)*T)/(stdev*np.sqrt(T))"
   ]
  },
  {
   "cell_type": "code",
   "execution_count": 5,
   "metadata": {},
   "outputs": [],
   "source": [
    "# define black schole formula\n",
    "def BSM(S,K,r,stdev,T):\n",
    "    return (S*norm.cdf(d1(S,K,r,stdev,T)))-(K*np.exp(-r*T)*norm.cdf(d2(S,K,r,stdev,T)))"
   ]
  },
  {
   "cell_type": "code",
   "execution_count": 15,
   "metadata": {},
   "outputs": [],
   "source": [
    "ticker='PG' # the stock\n",
    "data=pd.DataFrame()\n",
    "data[ticker]=wb.DataReader(ticker,data_source='yahoo')['Adj Close'] #get the data"
   ]
  },
  {
   "cell_type": "code",
   "execution_count": 21,
   "metadata": {},
   "outputs": [],
   "source": [
    "s=data.iloc[-1]  # get the las price"
   ]
  },
  {
   "cell_type": "code",
   "execution_count": 22,
   "metadata": {},
   "outputs": [],
   "source": [
    "log_returns=np.log(1+data.pct_change()) # calculate the logaritmic daily return"
   ]
  },
  {
   "cell_type": "code",
   "execution_count": 23,
   "metadata": {},
   "outputs": [],
   "source": [
    "stdev=log_returns.std()*250**0.5 # calculate the anually standard deviation"
   ]
  },
  {
   "cell_type": "code",
   "execution_count": 34,
   "metadata": {},
   "outputs": [],
   "source": [
    "r=0.025 #risk free\n",
    "K=110.0 #strike price \n",
    "T=1 #1 yar"
   ]
  },
  {
   "cell_type": "code",
   "execution_count": 36,
   "metadata": {},
   "outputs": [
    {
     "data": {
      "text/plain": [
       "PG    14.096957\n",
       "Name: 2020-05-18 00:00:00, dtype: float64"
      ]
     },
     "execution_count": 36,
     "metadata": {},
     "output_type": "execute_result"
    }
   ],
   "source": [
    "BSM(s,K,r,stdev,T) # get price for an option"
   ]
  }
 ],
 "metadata": {
  "kernelspec": {
   "display_name": "Python 3",
   "language": "python",
   "name": "python3"
  },
  "language_info": {
   "codemirror_mode": {
    "name": "ipython",
    "version": 3
   },
   "file_extension": ".py",
   "mimetype": "text/x-python",
   "name": "python",
   "nbconvert_exporter": "python",
   "pygments_lexer": "ipython3",
   "version": "3.7.4"
  }
 },
 "nbformat": 4,
 "nbformat_minor": 2
}
